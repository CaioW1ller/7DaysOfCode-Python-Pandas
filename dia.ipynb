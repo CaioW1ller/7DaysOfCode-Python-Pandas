{
 "cells": [
  {
   "cell_type": "code",
   "execution_count": null,
   "id": "a822e551-9e9a-4259-bacd-2a0a9eade589",
   "metadata": {},
   "outputs": [],
   "source": [
    "import pandas as pd"
   ]
  },
  {
   "cell_type": "code",
   "execution_count": 6,
   "id": "a7c4e041-88ac-429e-b890-c701b46bb427",
   "metadata": {},
   "outputs": [
    {
     "ename": "SyntaxError",
     "evalue": "unterminated string literal (detected at line 5) (3011024679.py, line 5)",
     "output_type": "error",
     "traceback": [
      "\u001b[1;36m  Cell \u001b[1;32mIn[6], line 5\u001b[1;36m\u001b[0m\n\u001b[1;33m    dados_2011_2 = pd.read_csv('emprestimos-20101.csv,', sep=',)\u001b[0m\n\u001b[1;37m                                                             ^\u001b[0m\n\u001b[1;31mSyntaxError\u001b[0m\u001b[1;31m:\u001b[0m unterminated string literal (detected at line 5)\n"
     ]
    }
   ],
   "source": [
    "dados_2010_1 = pd.read_csv('emprestimos-20101.csv')\n",
    "dados_2010_2 = pd.read_csv('emprestimos-20102.csv')\n",
    "dados_2011_1 = pd.read_csv('emprestimos-20101.csv,', sep=',')\n",
    "dados_2011_2 = pd.read_csv('emprestimos-20101.csv,', sep=',')\n",
    "dados_2011_2 = pd.read_csv('emprestimos-20101.csv,', sep=',)\n",
    "dados_2011_2 = pd.read_csv('emprestimos-20101.csv,', sep=',)\n",
    "dados_2011_2 = pd.read_csv('emprestimos-20101.csv,', sep=')\n",
    "dados_2011_2 = pd.read_csv('emprestimos-20101.csv,', sep=',)\n",
    "dados_2011_2 = pd.read_csv('emprestimos-20101.csv,', sep=',)\n",
    "dados_2011_2 = pd.read_csv('emprestimos-20101.csv,', sep=',)"
   ]
  },
  {
   "cell_type": "code",
   "execution_count": 2,
   "id": "d4ef18c9-0185-4345-be91-4d71e8272200",
   "metadata": {},
   "outputs": [
    {
     "ename": "NameError",
     "evalue": "name 'pd' is not defined",
     "output_type": "error",
     "traceback": [
      "\u001b[1;31m---------------------------------------------------------------------------\u001b[0m",
      "\u001b[1;31mNameError\u001b[0m                                 Traceback (most recent call last)",
      "Cell \u001b[1;32mIn[2], line 1\u001b[0m\n\u001b[1;32m----> 1\u001b[0m emprestimos_biblioteca \u001b[38;5;241m=\u001b[39m pd\u001b[38;5;241m.\u001b[39mconcat([dados_2010_1,dados_2010_2,dados_2011_1,dados_2011_2,dados_2012_1,dados_2012_2,dados_2013_1,dados_2013_2,dados_2014_1,\n\u001b[0;32m      2\u001b[0m                                     dados_2014_2,dados_2015_1,dados_2015_2,dados_2016_1,dados_2016_2,dados_2017_1,dados_2017_2,dados_2018_1,dados_2018_2,\n\u001b[0;32m      3\u001b[0m                                     dados_2019_1,dados_2019_2,dados_2020_1],ignore_index\u001b[38;5;241m=\u001b[39m\u001b[38;5;28;01mTrue\u001b[39;00m)\n\u001b[0;32m      4\u001b[0m emprestimos_biblioteca\n",
      "\u001b[1;31mNameError\u001b[0m: name 'pd' is not defined"
     ]
    }
   ],
   "source": [
    "emprestimos_biblioteca = pd.concat([dados_2010_1,dados_2010_2,dados_2011_1,dados_2011_2,dados_2012_1,dados_2012_2,dados_2013_1,dados_2013_2,dados_2014_1,\n",
    "                                    dados_2014_2,dados_2015_1,dados_2015_2,dados_2016_1,dados_2016_2,dados_2017_1,dados_2017_2,dados_2018_1,dados_2018_2,\n",
    "                                    dados_2019_1,dados_2019_2,dados_2020_1],ignore_index=True)\n",
    "emprestimos_biblioteca"
   ]
  },
  {
   "cell_type": "code",
   "execution_count": null,
   "id": "d8a8cbac-a084-457b-9b6a-b9cdd34e31b5",
   "metadata": {},
   "outputs": [],
   "source": []
  }
 ],
 "metadata": {
  "kernelspec": {
   "display_name": "Python 3 (ipykernel)",
   "language": "python",
   "name": "python3"
  },
  "language_info": {
   "codemirror_mode": {
    "name": "ipython",
    "version": 3
   },
   "file_extension": ".py",
   "mimetype": "text/x-python",
   "name": "python",
   "nbconvert_exporter": "python",
   "pygments_lexer": "ipython3",
   "version": "3.12.4"
  }
 },
 "nbformat": 4,
 "nbformat_minor": 5
}
